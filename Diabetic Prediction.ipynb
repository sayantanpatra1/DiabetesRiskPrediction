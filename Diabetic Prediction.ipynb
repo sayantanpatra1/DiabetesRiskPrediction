{
 "cells": [
  {
   "cell_type": "markdown",
   "id": "021db17e",
   "metadata": {},
   "source": [
    "# Diabetic Prediction"
   ]
  },
  {
   "cell_type": "markdown",
   "id": "5448b6de",
   "metadata": {},
   "source": [
    "##   import all the libraries or softwares\n"
   ]
  },
  {
   "cell_type": "code",
   "execution_count": 1,
   "id": "10eae49f",
   "metadata": {},
   "outputs": [],
   "source": [
    "import pandas as pd\n",
    "import numpy as np\n",
    "import matplotlib.pyplot as plt\n",
    "from sklearn.preprocessing import StandardScaler\n",
    " \n",
    "%matplotlib inline   "
   ]
  },
  {
   "cell_type": "markdown",
   "id": "25a5a51e",
   "metadata": {},
   "source": [
    "## Step 1 ---   load the data"
   ]
  },
  {
   "cell_type": "code",
   "execution_count": 2,
   "id": "43c5720d",
   "metadata": {},
   "outputs": [
    {
     "data": {
      "text/html": [
       "<div>\n",
       "<style scoped>\n",
       "    .dataframe tbody tr th:only-of-type {\n",
       "        vertical-align: middle;\n",
       "    }\n",
       "\n",
       "    .dataframe tbody tr th {\n",
       "        vertical-align: top;\n",
       "    }\n",
       "\n",
       "    .dataframe thead th {\n",
       "        text-align: right;\n",
       "    }\n",
       "</style>\n",
       "<table border=\"1\" class=\"dataframe\">\n",
       "  <thead>\n",
       "    <tr style=\"text-align: right;\">\n",
       "      <th></th>\n",
       "      <th>num_preg</th>\n",
       "      <th>glucose_conc</th>\n",
       "      <th>diastolic_bp</th>\n",
       "      <th>thickness</th>\n",
       "      <th>insulin</th>\n",
       "      <th>bmi</th>\n",
       "      <th>diab_pred</th>\n",
       "      <th>age</th>\n",
       "      <th>diabetes_orig</th>\n",
       "      <th>skin</th>\n",
       "      <th>has_diabetes</th>\n",
       "      <th>diabetes</th>\n",
       "    </tr>\n",
       "  </thead>\n",
       "  <tbody>\n",
       "    <tr>\n",
       "      <th>0</th>\n",
       "      <td>6</td>\n",
       "      <td>148</td>\n",
       "      <td>72</td>\n",
       "      <td>35</td>\n",
       "      <td>0</td>\n",
       "      <td>33.6</td>\n",
       "      <td>0.627</td>\n",
       "      <td>50</td>\n",
       "      <td>1</td>\n",
       "      <td>1.3790</td>\n",
       "      <td>True</td>\n",
       "      <td>True</td>\n",
       "    </tr>\n",
       "    <tr>\n",
       "      <th>1</th>\n",
       "      <td>1</td>\n",
       "      <td>85</td>\n",
       "      <td>66</td>\n",
       "      <td>29</td>\n",
       "      <td>0</td>\n",
       "      <td>26.6</td>\n",
       "      <td>0.351</td>\n",
       "      <td>31</td>\n",
       "      <td>0</td>\n",
       "      <td>1.1426</td>\n",
       "      <td>False</td>\n",
       "      <td>False</td>\n",
       "    </tr>\n",
       "    <tr>\n",
       "      <th>2</th>\n",
       "      <td>8</td>\n",
       "      <td>183</td>\n",
       "      <td>64</td>\n",
       "      <td>0</td>\n",
       "      <td>0</td>\n",
       "      <td>23.3</td>\n",
       "      <td>0.672</td>\n",
       "      <td>32</td>\n",
       "      <td>1</td>\n",
       "      <td>0.0000</td>\n",
       "      <td>True</td>\n",
       "      <td>True</td>\n",
       "    </tr>\n",
       "    <tr>\n",
       "      <th>3</th>\n",
       "      <td>1</td>\n",
       "      <td>89</td>\n",
       "      <td>66</td>\n",
       "      <td>23</td>\n",
       "      <td>94</td>\n",
       "      <td>28.1</td>\n",
       "      <td>0.167</td>\n",
       "      <td>21</td>\n",
       "      <td>0</td>\n",
       "      <td>0.9062</td>\n",
       "      <td>False</td>\n",
       "      <td>False</td>\n",
       "    </tr>\n",
       "    <tr>\n",
       "      <th>4</th>\n",
       "      <td>0</td>\n",
       "      <td>137</td>\n",
       "      <td>40</td>\n",
       "      <td>35</td>\n",
       "      <td>168</td>\n",
       "      <td>43.1</td>\n",
       "      <td>2.288</td>\n",
       "      <td>33</td>\n",
       "      <td>1</td>\n",
       "      <td>1.3790</td>\n",
       "      <td>True</td>\n",
       "      <td>True</td>\n",
       "    </tr>\n",
       "    <tr>\n",
       "      <th>...</th>\n",
       "      <td>...</td>\n",
       "      <td>...</td>\n",
       "      <td>...</td>\n",
       "      <td>...</td>\n",
       "      <td>...</td>\n",
       "      <td>...</td>\n",
       "      <td>...</td>\n",
       "      <td>...</td>\n",
       "      <td>...</td>\n",
       "      <td>...</td>\n",
       "      <td>...</td>\n",
       "      <td>...</td>\n",
       "    </tr>\n",
       "    <tr>\n",
       "      <th>763</th>\n",
       "      <td>10</td>\n",
       "      <td>101</td>\n",
       "      <td>76</td>\n",
       "      <td>48</td>\n",
       "      <td>180</td>\n",
       "      <td>32.9</td>\n",
       "      <td>0.171</td>\n",
       "      <td>63</td>\n",
       "      <td>0</td>\n",
       "      <td>1.8912</td>\n",
       "      <td>False</td>\n",
       "      <td>False</td>\n",
       "    </tr>\n",
       "    <tr>\n",
       "      <th>764</th>\n",
       "      <td>2</td>\n",
       "      <td>122</td>\n",
       "      <td>70</td>\n",
       "      <td>27</td>\n",
       "      <td>0</td>\n",
       "      <td>36.8</td>\n",
       "      <td>0.340</td>\n",
       "      <td>27</td>\n",
       "      <td>0</td>\n",
       "      <td>1.0638</td>\n",
       "      <td>False</td>\n",
       "      <td>False</td>\n",
       "    </tr>\n",
       "    <tr>\n",
       "      <th>765</th>\n",
       "      <td>5</td>\n",
       "      <td>121</td>\n",
       "      <td>72</td>\n",
       "      <td>23</td>\n",
       "      <td>112</td>\n",
       "      <td>26.2</td>\n",
       "      <td>0.245</td>\n",
       "      <td>30</td>\n",
       "      <td>0</td>\n",
       "      <td>0.9062</td>\n",
       "      <td>False</td>\n",
       "      <td>False</td>\n",
       "    </tr>\n",
       "    <tr>\n",
       "      <th>766</th>\n",
       "      <td>1</td>\n",
       "      <td>126</td>\n",
       "      <td>60</td>\n",
       "      <td>0</td>\n",
       "      <td>0</td>\n",
       "      <td>30.1</td>\n",
       "      <td>0.349</td>\n",
       "      <td>47</td>\n",
       "      <td>1</td>\n",
       "      <td>0.0000</td>\n",
       "      <td>True</td>\n",
       "      <td>True</td>\n",
       "    </tr>\n",
       "    <tr>\n",
       "      <th>767</th>\n",
       "      <td>1</td>\n",
       "      <td>93</td>\n",
       "      <td>70</td>\n",
       "      <td>31</td>\n",
       "      <td>0</td>\n",
       "      <td>30.4</td>\n",
       "      <td>0.315</td>\n",
       "      <td>23</td>\n",
       "      <td>0</td>\n",
       "      <td>1.2214</td>\n",
       "      <td>False</td>\n",
       "      <td>False</td>\n",
       "    </tr>\n",
       "  </tbody>\n",
       "</table>\n",
       "<p>768 rows × 12 columns</p>\n",
       "</div>"
      ],
      "text/plain": [
       "     num_preg  glucose_conc  diastolic_bp  thickness  insulin   bmi  \\\n",
       "0           6           148            72         35        0  33.6   \n",
       "1           1            85            66         29        0  26.6   \n",
       "2           8           183            64          0        0  23.3   \n",
       "3           1            89            66         23       94  28.1   \n",
       "4           0           137            40         35      168  43.1   \n",
       "..        ...           ...           ...        ...      ...   ...   \n",
       "763        10           101            76         48      180  32.9   \n",
       "764         2           122            70         27        0  36.8   \n",
       "765         5           121            72         23      112  26.2   \n",
       "766         1           126            60          0        0  30.1   \n",
       "767         1            93            70         31        0  30.4   \n",
       "\n",
       "     diab_pred  age  diabetes_orig    skin  has_diabetes  diabetes  \n",
       "0        0.627   50              1  1.3790          True      True  \n",
       "1        0.351   31              0  1.1426         False     False  \n",
       "2        0.672   32              1  0.0000          True      True  \n",
       "3        0.167   21              0  0.9062         False     False  \n",
       "4        2.288   33              1  1.3790          True      True  \n",
       "..         ...  ...            ...     ...           ...       ...  \n",
       "763      0.171   63              0  1.8912         False     False  \n",
       "764      0.340   27              0  1.0638         False     False  \n",
       "765      0.245   30              0  0.9062         False     False  \n",
       "766      0.349   47              1  0.0000          True      True  \n",
       "767      0.315   23              0  1.2214         False     False  \n",
       "\n",
       "[768 rows x 12 columns]"
      ]
     },
     "execution_count": 2,
     "metadata": {},
     "output_type": "execute_result"
    }
   ],
   "source": [
    "df = pd.read_excel('pima-data.xlsx')\n",
    "df"
   ]
  },
  {
   "cell_type": "markdown",
   "id": "cdd32224",
   "metadata": {},
   "source": [
    "## Step 2 ---  Cleaning data "
   ]
  },
  {
   "cell_type": "markdown",
   "id": "bcab9f80",
   "metadata": {},
   "source": [
    "#### 2.a ) check whether any null or NaN values are there or not"
   ]
  },
  {
   "cell_type": "code",
   "execution_count": 36,
   "id": "9ee9b47a",
   "metadata": {},
   "outputs": [
    {
     "data": {
      "text/plain": [
       "False"
      ]
     },
     "execution_count": 36,
     "metadata": {},
     "output_type": "execute_result"
    }
   ],
   "source": [
    "df.isnull().values.any() # another code - df.isnull().values.sum()"
   ]
  },
  {
   "cell_type": "markdown",
   "id": "f7f96062",
   "metadata": {},
   "source": [
    "#### 2.b) Checking any coulmns are corelated or not"
   ]
  },
  {
   "cell_type": "code",
   "execution_count": 4,
   "id": "0aafd808",
   "metadata": {},
   "outputs": [
    {
     "data": {
      "text/plain": [
       "([<matplotlib.axis.YTick at 0x15b8416c8e0>,\n",
       "  <matplotlib.axis.YTick at 0x15b8416c040>,\n",
       "  <matplotlib.axis.YTick at 0x15b84160970>,\n",
       "  <matplotlib.axis.YTick at 0x15b8428bac0>,\n",
       "  <matplotlib.axis.YTick at 0x15b842905b0>,\n",
       "  <matplotlib.axis.YTick at 0x15b84290d00>,\n",
       "  <matplotlib.axis.YTick at 0x15b8428b460>,\n",
       "  <matplotlib.axis.YTick at 0x15b842919a0>,\n",
       "  <matplotlib.axis.YTick at 0x15b84295490>,\n",
       "  <matplotlib.axis.YTick at 0x15b84295f40>,\n",
       "  <matplotlib.axis.YTick at 0x15b84298a30>,\n",
       "  <matplotlib.axis.YTick at 0x15b842907f0>],\n",
       " [Text(0, 0, 'num_preg'),\n",
       "  Text(0, 1, 'glucose_conc'),\n",
       "  Text(0, 2, 'diastolic_bp'),\n",
       "  Text(0, 3, 'thickness'),\n",
       "  Text(0, 4, 'insulin'),\n",
       "  Text(0, 5, 'bmi'),\n",
       "  Text(0, 6, 'diab_pred'),\n",
       "  Text(0, 7, 'age'),\n",
       "  Text(0, 8, 'diabetes_orig'),\n",
       "  Text(0, 9, 'skin'),\n",
       "  Text(0, 10, 'has_diabetes'),\n",
       "  Text(0, 11, 'diabetes')])"
      ]
     },
     "execution_count": 4,
     "metadata": {},
     "output_type": "execute_result"
    },
    {
     "data": {
      "image/png": "[encoded data removed]",
      "text/plain": [
       "<Figure size 1200x1200 with 1 Axes>"
      ]
     },
     "metadata": {},
     "output_type": "display_data"
    }
   ],
   "source": [
    "corr = df.corr()\n",
    "fig,ax = plt.subplots(figsize=(12,12))\n",
    "ax.matshow(corr)    \n",
    "plt.xticks(range(len(corr.columns)),corr.columns,rotation=20)\n",
    "plt.yticks(range(len(corr.columns)),corr.columns)\n",
    "  "
   ]
  },
  {
   "cell_type": "markdown",
   "id": "d433b8ba",
   "metadata": {},
   "source": [
    "<H3>in correlation matrix </H3>\n",
    "<p>1) all diagonal columns will be in yellow color</p>\n",
    "<p>2) apart from diagonal column observe where we are having yellow color or meroon red color any where else</p>"
   ]
  },
  {
   "cell_type": "markdown",
   "id": "936f03c1",
   "metadata": {},
   "source": [
    "<p fontsize=20px> Here thickness and skin columns are corelated . So remove any one out of these 2 columns.</p>\n",
    "<p fontsize=20px> Diabetese,Diabetes_org and has_diabetes columns are corelated. So remove any one out of these columns.</p>"
   ]
  },
  {
   "cell_type": "code",
   "execution_count": 5,
   "id": "87ba8066",
   "metadata": {},
   "outputs": [],
   "source": [
    "df.drop('thickness',axis=1,inplace=True)\n",
    "df.drop('has_diabetes',axis = 1,inplace=True)\n",
    "df.drop('diabetes_orig',axis=1,inplace=True)"
   ]
  },
  {
   "cell_type": "code",
   "execution_count": 6,
   "id": "d37e916b",
   "metadata": {},
   "outputs": [
    {
     "data": {
      "text/html": [
       "<div>\n",
       "<style scoped>\n",
       "    .dataframe tbody tr th:only-of-type {\n",
       "        vertical-align: middle;\n",
       "    }\n",
       "\n",
       "    .dataframe tbody tr th {\n",
       "        vertical-align: top;\n",
       "    }\n",
       "\n",
       "    .dataframe thead th {\n",
       "        text-align: right;\n",
       "    }\n",
       "</style>\n",
       "<table border=\"1\" class=\"dataframe\">\n",
       "  <thead>\n",
       "    <tr style=\"text-align: right;\">\n",
       "      <th></th>\n",
       "      <th>num_preg</th>\n",
       "      <th>glucose_conc</th>\n",
       "      <th>diastolic_bp</th>\n",
       "      <th>insulin</th>\n",
       "      <th>bmi</th>\n",
       "      <th>diab_pred</th>\n",
       "      <th>age</th>\n",
       "      <th>skin</th>\n",
       "      <th>diabetes</th>\n",
       "    </tr>\n",
       "  </thead>\n",
       "  <tbody>\n",
       "    <tr>\n",
       "      <th>0</th>\n",
       "      <td>6</td>\n",
       "      <td>148</td>\n",
       "      <td>72</td>\n",
       "      <td>0</td>\n",
       "      <td>33.6</td>\n",
       "      <td>0.627</td>\n",
       "      <td>50</td>\n",
       "      <td>1.3790</td>\n",
       "      <td>True</td>\n",
       "    </tr>\n",
       "    <tr>\n",
       "      <th>1</th>\n",
       "      <td>1</td>\n",
       "      <td>85</td>\n",
       "      <td>66</td>\n",
       "      <td>0</td>\n",
       "      <td>26.6</td>\n",
       "      <td>0.351</td>\n",
       "      <td>31</td>\n",
       "      <td>1.1426</td>\n",
       "      <td>False</td>\n",
       "    </tr>\n",
       "    <tr>\n",
       "      <th>2</th>\n",
       "      <td>8</td>\n",
       "      <td>183</td>\n",
       "      <td>64</td>\n",
       "      <td>0</td>\n",
       "      <td>23.3</td>\n",
       "      <td>0.672</td>\n",
       "      <td>32</td>\n",
       "      <td>0.0000</td>\n",
       "      <td>True</td>\n",
       "    </tr>\n",
       "    <tr>\n",
       "      <th>3</th>\n",
       "      <td>1</td>\n",
       "      <td>89</td>\n",
       "      <td>66</td>\n",
       "      <td>94</td>\n",
       "      <td>28.1</td>\n",
       "      <td>0.167</td>\n",
       "      <td>21</td>\n",
       "      <td>0.9062</td>\n",
       "      <td>False</td>\n",
       "    </tr>\n",
       "    <tr>\n",
       "      <th>4</th>\n",
       "      <td>0</td>\n",
       "      <td>137</td>\n",
       "      <td>40</td>\n",
       "      <td>168</td>\n",
       "      <td>43.1</td>\n",
       "      <td>2.288</td>\n",
       "      <td>33</td>\n",
       "      <td>1.3790</td>\n",
       "      <td>True</td>\n",
       "    </tr>\n",
       "  </tbody>\n",
       "</table>\n",
       "</div>"
      ],
      "text/plain": [
       "   num_preg  glucose_conc  diastolic_bp  insulin   bmi  diab_pred  age  \\\n",
       "0         6           148            72        0  33.6      0.627   50   \n",
       "1         1            85            66        0  26.6      0.351   31   \n",
       "2         8           183            64        0  23.3      0.672   32   \n",
       "3         1            89            66       94  28.1      0.167   21   \n",
       "4         0           137            40      168  43.1      2.288   33   \n",
       "\n",
       "     skin  diabetes  \n",
       "0  1.3790      True  \n",
       "1  1.1426     False  \n",
       "2  0.0000      True  \n",
       "3  0.9062     False  \n",
       "4  1.3790      True  "
      ]
     },
     "execution_count": 6,
     "metadata": {},
     "output_type": "execute_result"
    }
   ],
   "source": [
    "df.head()"
   ]
  },
  {
   "cell_type": "markdown",
   "id": "217bab29",
   "metadata": {},
   "source": [
    "#### 2.c ) ML can't understand the text format data so convert them into integer type "
   ]
  },
  {
   "cell_type": "code",
   "execution_count": 7,
   "id": "cde82bd7",
   "metadata": {},
   "outputs": [],
   "source": [
    "# Creating a dictionary to convert True to 1 and False to 0\n",
    "# Want to replace True and false in diabetes columns\n",
    "dict1 = {\n",
    "    'diabetes':[True,False]\n",
    "    \n",
    "}\n",
    "# Inplace of True place with 1 and in place of False place with 0\n",
    "dict2 = {\n",
    "    'diabetes':[1,0]\n",
    "        \n",
    "}"
   ]
  },
  {
   "cell_type": "code",
   "execution_count": 8,
   "id": "33818c70",
   "metadata": {},
   "outputs": [],
   "source": [
    "#df['diabetes'] = df['diabetes'].map(dict)"
   ]
  },
  {
   "cell_type": "code",
   "execution_count": 9,
   "id": "205e875f",
   "metadata": {},
   "outputs": [],
   "source": [
    "df.replace(dict1,dict2,inplace=True)"
   ]
  },
  {
   "cell_type": "code",
   "execution_count": 10,
   "id": "0b5eb2f9",
   "metadata": {},
   "outputs": [
    {
     "data": {
      "text/html": [
       "<div>\n",
       "<style scoped>\n",
       "    .dataframe tbody tr th:only-of-type {\n",
       "        vertical-align: middle;\n",
       "    }\n",
       "\n",
       "    .dataframe tbody tr th {\n",
       "        vertical-align: top;\n",
       "    }\n",
       "\n",
       "    .dataframe thead th {\n",
       "        text-align: right;\n",
       "    }\n",
       "</style>\n",
       "<table border=\"1\" class=\"dataframe\">\n",
       "  <thead>\n",
       "    <tr style=\"text-align: right;\">\n",
       "      <th></th>\n",
       "      <th>num_preg</th>\n",
       "      <th>glucose_conc</th>\n",
       "      <th>diastolic_bp</th>\n",
       "      <th>insulin</th>\n",
       "      <th>bmi</th>\n",
       "      <th>diab_pred</th>\n",
       "      <th>age</th>\n",
       "      <th>skin</th>\n",
       "      <th>diabetes</th>\n",
       "    </tr>\n",
       "  </thead>\n",
       "  <tbody>\n",
       "    <tr>\n",
       "      <th>0</th>\n",
       "      <td>6</td>\n",
       "      <td>148</td>\n",
       "      <td>72</td>\n",
       "      <td>0</td>\n",
       "      <td>33.6</td>\n",
       "      <td>0.627</td>\n",
       "      <td>50</td>\n",
       "      <td>1.3790</td>\n",
       "      <td>1</td>\n",
       "    </tr>\n",
       "    <tr>\n",
       "      <th>1</th>\n",
       "      <td>1</td>\n",
       "      <td>85</td>\n",
       "      <td>66</td>\n",
       "      <td>0</td>\n",
       "      <td>26.6</td>\n",
       "      <td>0.351</td>\n",
       "      <td>31</td>\n",
       "      <td>1.1426</td>\n",
       "      <td>0</td>\n",
       "    </tr>\n",
       "    <tr>\n",
       "      <th>2</th>\n",
       "      <td>8</td>\n",
       "      <td>183</td>\n",
       "      <td>64</td>\n",
       "      <td>0</td>\n",
       "      <td>23.3</td>\n",
       "      <td>0.672</td>\n",
       "      <td>32</td>\n",
       "      <td>0.0000</td>\n",
       "      <td>1</td>\n",
       "    </tr>\n",
       "    <tr>\n",
       "      <th>3</th>\n",
       "      <td>1</td>\n",
       "      <td>89</td>\n",
       "      <td>66</td>\n",
       "      <td>94</td>\n",
       "      <td>28.1</td>\n",
       "      <td>0.167</td>\n",
       "      <td>21</td>\n",
       "      <td>0.9062</td>\n",
       "      <td>0</td>\n",
       "    </tr>\n",
       "    <tr>\n",
       "      <th>4</th>\n",
       "      <td>0</td>\n",
       "      <td>137</td>\n",
       "      <td>40</td>\n",
       "      <td>168</td>\n",
       "      <td>43.1</td>\n",
       "      <td>2.288</td>\n",
       "      <td>33</td>\n",
       "      <td>1.3790</td>\n",
       "      <td>1</td>\n",
       "    </tr>\n",
       "    <tr>\n",
       "      <th>5</th>\n",
       "      <td>5</td>\n",
       "      <td>116</td>\n",
       "      <td>74</td>\n",
       "      <td>0</td>\n",
       "      <td>25.6</td>\n",
       "      <td>0.201</td>\n",
       "      <td>30</td>\n",
       "      <td>0.0000</td>\n",
       "      <td>0</td>\n",
       "    </tr>\n",
       "  </tbody>\n",
       "</table>\n",
       "</div>"
      ],
      "text/plain": [
       "   num_preg  glucose_conc  diastolic_bp  insulin   bmi  diab_pred  age  \\\n",
       "0         6           148            72        0  33.6      0.627   50   \n",
       "1         1            85            66        0  26.6      0.351   31   \n",
       "2         8           183            64        0  23.3      0.672   32   \n",
       "3         1            89            66       94  28.1      0.167   21   \n",
       "4         0           137            40      168  43.1      2.288   33   \n",
       "5         5           116            74        0  25.6      0.201   30   \n",
       "\n",
       "     skin  diabetes  \n",
       "0  1.3790         1  \n",
       "1  1.1426         0  \n",
       "2  0.0000         1  \n",
       "3  0.9062         0  \n",
       "4  1.3790         1  \n",
       "5  0.0000         0  "
      ]
     },
     "execution_count": 10,
     "metadata": {},
     "output_type": "execute_result"
    }
   ],
   "source": [
    "df.head(6)"
   ]
  },
  {
   "cell_type": "markdown",
   "id": "d107073f",
   "metadata": {},
   "source": [
    "### Checking whether the data is balanced or not "
   ]
  },
  {
   "cell_type": "code",
   "execution_count": 11,
   "id": "83c144b6",
   "metadata": {},
   "outputs": [
    {
     "name": "stdout",
     "output_type": "stream",
     "text": [
      "num_true = 500\n",
      "num_false = 268\n",
      "65.10416666666666\n",
      "34.89583333333333\n"
     ]
    }
   ],
   "source": [
    "num_true = len(df.loc[df['diabetes']==0])\n",
    "num_false = len(df.loc[df['diabetes'] == 1])\n",
    "print(f'num_true = {num_true}')\n",
    "print(f'num_false = {num_false}')\n",
    "\n",
    "per_num_true = (num_true / (num_true+num_false))*100\n",
    "print(per_num_true)\n",
    "\n",
    "per_num_false = (num_false/(num_false+num_true))*100\n",
    "print(per_num_false)"
   ]
  },
  {
   "cell_type": "markdown",
   "id": "49d5982e",
   "metadata": {},
   "source": [
    "### Splitting Data for training and testing "
   ]
  },
  {
   "cell_type": "code",
   "execution_count": 12,
   "id": "8f23147a",
   "metadata": {},
   "outputs": [],
   "source": [
    "from sklearn.model_selection import train_test_split\n",
    "\n",
    "input_columns = ['num_preg','glucose_conc','diastolic_bp','insulin','bmi','diab_pred','age','skin']\n",
    "output_columns = ['diabetes']\n",
    "\n",
    "x = df[input_columns].values\n",
    "y = df[output_columns].values\n",
    "\n",
    "spilt_test_size = 0.3\n",
    "\n",
    "x_train,x_test,y_train,y_test = train_test_split(x,y,test_size = spilt_test_size,random_state=42)"
   ]
  },
  {
   "cell_type": "code",
   "execution_count": 13,
   "id": "12b5cb87",
   "metadata": {},
   "outputs": [],
   "source": [
    "# from imblearn.over_sampling import SMOTE\n",
    "# from collections import Counter\n",
    "# counter = Counter(y_train.ravel())\n",
    "# print(counter)\n",
    "# smt = SMOTE()\n",
    "# x_train_sm,y_train_sm = smt.fit_resample(x_train,y_train)\n",
    "# cont = Counter(y_train_sm)\n",
    "# print(cont)"
   ]
  },
  {
   "cell_type": "markdown",
   "id": "50f190b9",
   "metadata": {},
   "source": [
    "### Checking how many rows are having missing values "
   ]
  },
  {
   "cell_type": "code",
   "execution_count": 14,
   "id": "5d85d081",
   "metadata": {},
   "outputs": [
    {
     "name": "stdout",
     "output_type": "stream",
     "text": [
      "number of Rows missing in num_preg column is 111\n",
      "number of Rows missing in glucose_conc column is 5\n",
      "number of Rows missing in diastolic_bp column is 35\n",
      "number of Rows missing in insulin column is 374\n",
      "number of Rows missing in bmi column is 11\n",
      "number of Rows missing in diab_pred column is 0\n",
      "number of rows missing in age is 0\n"
     ]
    }
   ],
   "source": [
    "total_num_preg = len(df.loc[df['num_preg']== 0])\n",
    "print(f'number of Rows missing in num_preg column is {total_num_preg}')\n",
    "\n",
    "\n",
    "total_glucose_conc =  len(df.loc[df['glucose_conc']==0])\n",
    "print(f'number of Rows missing in glucose_conc column is {total_glucose_conc}')\n",
    "\n",
    "total_diastolic_bp = len(df.loc[df['diastolic_bp']==0])\n",
    "print(f'number of Rows missing in diastolic_bp column is {total_diastolic_bp}')\n",
    "\n",
    "total_insulin = len(df.loc[df['insulin']==0])\n",
    "print(f'number of Rows missing in insulin column is {total_insulin}')\n",
    "\n",
    "total_bmi = len(df.loc[df['bmi']==0])\n",
    "print(f'number of Rows missing in bmi column is {total_bmi}')\n",
    "\n",
    "total_diab_pred = len(df.loc[df['diab_pred']==0])\n",
    "print(f'number of Rows missing in diab_pred column is {total_diab_pred}')\n",
    "\n",
    "total_age = len(df.loc[df['age'] ==0])\n",
    "print(f'number of rows missing in age is {total_age}')"
   ]
  },
  {
   "cell_type": "markdown",
   "id": "43fa22b1",
   "metadata": {},
   "source": [
    "#### Replacing 0 with mean value or median value"
   ]
  },
  {
   "cell_type": "code",
   "execution_count": 15,
   "id": "d82537c8",
   "metadata": {},
   "outputs": [],
   "source": [
    "from sklearn.impute import SimpleImputer\n",
    "\n",
    "fill_zeros = SimpleImputer(missing_values=0,strategy='mean')\n",
    "\n",
    "x_train = fill_zeros.fit_transform(x_train)\n",
    "x_test = fill_zeros.fit_transform(x_test)"
   ]
  },
  {
   "cell_type": "markdown",
   "id": "000327be",
   "metadata": {},
   "source": [
    "# Navie Bayes Algorithm\n",
    "## Training a model\n"
   ]
  },
  {
   "cell_type": "code",
   "execution_count": 16,
   "id": "0f8fc6d2",
   "metadata": {},
   "outputs": [],
   "source": [
    "from sklearn.naive_bayes import GaussianNB"
   ]
  },
  {
   "cell_type": "code",
   "execution_count": 17,
   "id": "537f07df",
   "metadata": {},
   "outputs": [
    {
     "data": {
      "text/html": [
       "<style>#sk-container-id-1 {color: black;background-color: white;}#sk-container-id-1 pre{padding: 0;}#sk-container-id-1 div.sk-toggleable {background-color: white;}#sk-container-id-1 label.sk-toggleable__label {cursor: pointer;display: block;width: 100%;margin-bottom: 0;padding: 0.3em;box-sizing: border-box;text-align: center;}#sk-container-id-1 label.sk-toggleable__label-arrow:before {content: \"▸\";float: left;margin-right: 0.25em;color: #696969;}#sk-container-id-1 label.sk-toggleable__label-arrow:hover:before {color: black;}#sk-container-id-1 div.sk-estimator:hover label.sk-toggleable__label-arrow:before {color: black;}#sk-container-id-1 div.sk-toggleable__content {max-height: 0;max-width: 0;overflow: hidden;text-align: left;background-color: #f0f8ff;}#sk-container-id-1 div.sk-toggleable__content pre {margin: 0.2em;color: black;border-radius: 0.25em;background-color: #f0f8ff;}#sk-container-id-1 input.sk-toggleable__control:checked~div.sk-toggleable__content {max-height: 200px;max-width: 100%;overflow: auto;}#sk-container-id-1 input.sk-toggleable__control:checked~label.sk-toggleable__label-arrow:before {content: \"▾\";}#sk-container-id-1 div.sk-estimator input.sk-toggleable__control:checked~label.sk-toggleable__label {background-color: #d4ebff;}#sk-container-id-1 div.sk-label input.sk-toggleable__control:checked~label.sk-toggleable__label {background-color: #d4ebff;}#sk-container-id-1 input.sk-hidden--visually {border: 0;clip: rect(1px 1px 1px 1px);clip: rect(1px, 1px, 1px, 1px);height: 1px;margin: -1px;overflow: hidden;padding: 0;position: absolute;width: 1px;}#sk-container-id-1 div.sk-estimator {font-family: monospace;background-color: #f0f8ff;border: 1px dotted black;border-radius: 0.25em;box-sizing: border-box;margin-bottom: 0.5em;}#sk-container-id-1 div.sk-estimator:hover {background-color: #d4ebff;}#sk-container-id-1 div.sk-parallel-item::after {content: \"\";width: 100%;border-bottom: 1px solid gray;flex-grow: 1;}#sk-container-id-1 div.sk-label:hover label.sk-toggleable__label {background-color: #d4ebff;}#sk-container-id-1 div.sk-serial::before {content: \"\";position: absolute;border-left: 1px solid gray;box-sizing: border-box;top: 0;bottom: 0;left: 50%;z-index: 0;}#sk-container-id-1 div.sk-serial {display: flex;flex-direction: column;align-items: center;background-color: white;padding-right: 0.2em;padding-left: 0.2em;position: relative;}#sk-container-id-1 div.sk-item {position: relative;z-index: 1;}#sk-container-id-1 div.sk-parallel {display: flex;align-items: stretch;justify-content: center;background-color: white;position: relative;}#sk-container-id-1 div.sk-item::before, #sk-container-id-1 div.sk-parallel-item::before {content: \"\";position: absolute;border-left: 1px solid gray;box-sizing: border-box;top: 0;bottom: 0;left: 50%;z-index: -1;}#sk-container-id-1 div.sk-parallel-item {display: flex;flex-direction: column;z-index: 1;position: relative;background-color: white;}#sk-container-id-1 div.sk-parallel-item:first-child::after {align-self: flex-end;width: 50%;}#sk-container-id-1 div.sk-parallel-item:last-child::after {align-self: flex-start;width: 50%;}#sk-container-id-1 div.sk-parallel-item:only-child::after {width: 0;}#sk-container-id-1 div.sk-dashed-wrapped {border: 1px dashed gray;margin: 0 0.4em 0.5em 0.4em;box-sizing: border-box;padding-bottom: 0.4em;background-color: white;}#sk-container-id-1 div.sk-label label {font-family: monospace;font-weight: bold;display: inline-block;line-height: 1.2em;}#sk-container-id-1 div.sk-label-container {text-align: center;}#sk-container-id-1 div.sk-container {/* jupyter's `normalize.less` sets `[hidden] { display: none; }` but bootstrap.min.css set `[hidden] { display: none !important; }` so we also need the `!important` here to be able to override the default hidden behavior on the sphinx rendered scikit-learn.org. See: https://github.com/scikit-learn/scikit-learn/issues/21755 */display: inline-block !important;position: relative;}#sk-container-id-1 div.sk-text-repr-fallback {display: none;}</style><div id=\"sk-container-id-1\" class=\"sk-top-container\"><div class=\"sk-text-repr-fallback\"><pre>GaussianNB()</pre><b>In a Jupyter environment, please rerun this cell to show the HTML representation or trust the notebook. <br />On GitHub, the HTML representation is unable to render, please try loading this page with nbviewer.org.</b></div><div class=\"sk-container\" hidden><div class=\"sk-item\"><div class=\"sk-estimator sk-toggleable\"><input class=\"sk-toggleable__control sk-hidden--visually\" id=\"sk-estimator-id-1\" type=\"checkbox\" checked><label for=\"sk-estimator-id-1\" class=\"sk-toggleable__label sk-toggleable__label-arrow\">GaussianNB</label><div class=\"sk-toggleable__content\"><pre>GaussianNB()</pre></div></div></div></div></div>"
      ],
      "text/plain": [
       "GaussianNB()"
      ]
     },
     "execution_count": 17,
     "metadata": {},
     "output_type": "execute_result"
    }
   ],
   "source": [
    "nb_model = GaussianNB()   #creating object for GaussianNB Class\n",
    "\n",
    "nb_model.fit(x_train,y_train.ravel())   # Training a model"
   ]
  },
  {
   "cell_type": "markdown",
   "id": "bc275646",
   "metadata": {},
   "source": [
    "<p fontsize=22p><i>It will train all the records and find out the accuracy</i> </p>"
   ]
  },
  {
   "cell_type": "code",
   "execution_count": 18,
   "id": "c5273e61",
   "metadata": {},
   "outputs": [
    {
     "name": "stdout",
     "output_type": "stream",
     "text": [
      "Predicted accuracy 0.7541899441340782\n"
     ]
    }
   ],
   "source": [
    "from sklearn import metrics\n",
    "\n",
    "nb_predict_model = nb_model.predict(x_train)    # Testing a model\n",
    "\n",
    "print(f'Predicted accuracy { metrics.accuracy_score(y_train,nb_predict_model) }')  # Accuracy"
   ]
  },
  {
   "cell_type": "markdown",
   "id": "03c1b7c1",
   "metadata": {},
   "source": [
    "<p fontsize=25p> Here we are checking for each and every patient.<br> So for first patient the predicted value is matching </p>"
   ]
  },
  {
   "cell_type": "code",
   "execution_count": 19,
   "id": "67687c19",
   "metadata": {},
   "outputs": [
    {
     "name": "stdout",
     "output_type": "stream",
     "text": [
      "[0]\n",
      "[0]\n"
     ]
    }
   ],
   "source": [
    "first = nb_model.predict([x_train[4]])\n",
    "print(first)   #predicted result\n",
    "print(y_train[4])  #actual result"
   ]
  },
  {
   "cell_type": "code",
   "execution_count": 20,
   "id": "673f0825",
   "metadata": {},
   "outputs": [
    {
     "data": {
      "text/plain": [
       "174.21787709497207"
      ]
     },
     "execution_count": 20,
     "metadata": {},
     "output_type": "execute_result"
    }
   ],
   "source": [
    "(75.41899441340782 *  231) /100"
   ]
  },
  {
   "cell_type": "markdown",
   "id": "0984241f",
   "metadata": {},
   "source": [
    "## Testing the model"
   ]
  },
  {
   "cell_type": "code",
   "execution_count": 21,
   "id": "0a223d23",
   "metadata": {},
   "outputs": [
    {
     "name": "stdout",
     "output_type": "stream",
     "text": [
      "Predicted accuracy 0.7359307359307359\n"
     ]
    }
   ],
   "source": [
    "from sklearn import metrics\n",
    "\n",
    "nb_predict_test = nb_model.predict(x_test)\n",
    "print(f'Predicted accuracy { metrics.accuracy_score(y_test,nb_predict_test) }')"
   ]
  },
  {
   "cell_type": "markdown",
   "id": "4d3faf65",
   "metadata": {},
   "source": [
    "### Analysing whether this algorithm is good or bad"
   ]
  },
  {
   "cell_type": "markdown",
   "id": "0ddbfd1f",
   "metadata": {},
   "source": [
    "#If we get more than 68% accuracy we have to use confusion matrix for analysing the algorithm"
   ]
  },
  {
   "cell_type": "code",
   "execution_count": 22,
   "id": "f6a52995",
   "metadata": {},
   "outputs": [
    {
     "name": "stdout",
     "output_type": "stream",
     "text": [
      "[[118  33]\n",
      " [ 28  52]]\n"
     ]
    }
   ],
   "source": [
    "print(f'{ metrics.confusion_matrix(y_test,nb_predict_test)}')"
   ]
  },
  {
   "cell_type": "markdown",
   "id": "88bd403c",
   "metadata": {},
   "source": [
    "<h3 color='Blue'>Confusion Matrix</h3>\n",
    "<p fontsize=20> In confusion matrix actual values represented by columns<br>Predicted value represented by rows</p>"
   ]
  },
  {
   "cell_type": "markdown",
   "id": "35d9dbde",
   "metadata": {},
   "source": [
    "<p fontsize=30> So lets see the actual values and predicted values</p>\n",
    "<p fontsize=25><b><i>Total records = 231</i></b></p>\n",
    "<table border=1>\n",
    "    <tr>\n",
    "        <th>Actual Diabetes Patient</th>\n",
    "        <th>Actual number of diabetes patient</th>\n",
    "    </tr>\n",
    "    <tr>\n",
    "        <td>118+28 == <b>146</b></td>\n",
    "        <td>231 - 146 == <b> 85</b></td>\n",
    "    </tr>\n",
    "</table>\n",
    "\n",
    "<table border=1>\n",
    "    <tr>\n",
    "        <th>Predicted Diabetes Patient</th>\n",
    "        <th>Predicted number of diabetes patient</th>\n",
    "    </tr>\n",
    "    <tr>\n",
    "        <td>118+33 == <b>151</b></td>\n",
    "        <td>231 - 151 == <b> 80</b></td>\n",
    "    </tr>\n",
    "</table>"
   ]
  },
  {
   "cell_type": "markdown",
   "id": "cb654203",
   "metadata": {},
   "source": [
    "#### When the algorithm is acceptable?"
   ]
  },
  {
   "cell_type": "markdown",
   "id": "e113989d",
   "metadata": {},
   "source": [
    "<p fontsize=20>\n",
    "    <ul>\n",
    "        <li> When True +ve and True -ve are more </li>\n",
    "        <li> False +ve and False -ve should be less</li>\n",
    "        <li> False -ve value should be less compared to False +ve value in general cases</li>\n",
    "    </ul>\n",
    "</p>\n",
    "\n",
    "<p fontsize=20><b> Type-I error is known as False+ve<br> Type-II error is known as False -ve</b></p> "
   ]
  },
  {
   "cell_type": "markdown",
   "id": "6bd70327",
   "metadata": {},
   "source": [
    "#### Accuracy Formula == (True+ve + True -ve) / Total Number of records"
   ]
  },
  {
   "cell_type": "code",
   "execution_count": 23,
   "id": "d737c0ff",
   "metadata": {},
   "outputs": [
    {
     "name": "stdout",
     "output_type": "stream",
     "text": [
      "              precision    recall  f1-score   support\n",
      "\n",
      "           0       0.81      0.78      0.79       151\n",
      "           1       0.61      0.65      0.63        80\n",
      "\n",
      "    accuracy                           0.74       231\n",
      "   macro avg       0.71      0.72      0.71       231\n",
      "weighted avg       0.74      0.74      0.74       231\n",
      "\n"
     ]
    }
   ],
   "source": [
    "print( metrics.classification_report(y_test,nb_predict_test))"
   ]
  },
  {
   "cell_type": "markdown",
   "id": "31e5ed8f",
   "metadata": {},
   "source": [
    "<p fontsize=20><b>positive Precision = TP / (Tp + FP)</b> <br>\n",
    "    <b>Negative precision = TN / (TN+FN) </b><br>\n",
    "    <b>Positive Recall = TP / (TP + FN)</b><br>\n",
    "    <b> Negative Recal = TN / (TN + FP)</b><br>\n",
    "</p>"
   ]
  },
  {
   "cell_type": "markdown",
   "id": "7346cde7",
   "metadata": {},
   "source": [
    "## Random Forest algorithm "
   ]
  },
  {
   "cell_type": "code",
   "execution_count": 24,
   "id": "53e199fd",
   "metadata": {},
   "outputs": [],
   "source": [
    "from sklearn.ensemble import RandomForestClassifier"
   ]
  },
  {
   "cell_type": "markdown",
   "id": "6b056513",
   "metadata": {},
   "source": [
    "## Training a model"
   ]
  },
  {
   "cell_type": "code",
   "execution_count": 25,
   "id": "be7a97d6",
   "metadata": {},
   "outputs": [
    {
     "data": {
      "text/html": [
       "<style>#sk-container-id-2 {color: black;background-color: white;}#sk-container-id-2 pre{padding: 0;}#sk-container-id-2 div.sk-toggleable {background-color: white;}#sk-container-id-2 label.sk-toggleable__label {cursor: pointer;display: block;width: 100%;margin-bottom: 0;padding: 0.3em;box-sizing: border-box;text-align: center;}#sk-container-id-2 label.sk-toggleable__label-arrow:before {content: \"▸\";float: left;margin-right: 0.25em;color: #696969;}#sk-container-id-2 label.sk-toggleable__label-arrow:hover:before {color: black;}#sk-container-id-2 div.sk-estimator:hover label.sk-toggleable__label-arrow:before {color: black;}#sk-container-id-2 div.sk-toggleable__content {max-height: 0;max-width: 0;overflow: hidden;text-align: left;background-color: #f0f8ff;}#sk-container-id-2 div.sk-toggleable__content pre {margin: 0.2em;color: black;border-radius: 0.25em;background-color: #f0f8ff;}#sk-container-id-2 input.sk-toggleable__control:checked~div.sk-toggleable__content {max-height: 200px;max-width: 100%;overflow: auto;}#sk-container-id-2 input.sk-toggleable__control:checked~label.sk-toggleable__label-arrow:before {content: \"▾\";}#sk-container-id-2 div.sk-estimator input.sk-toggleable__control:checked~label.sk-toggleable__label {background-color: #d4ebff;}#sk-container-id-2 div.sk-label input.sk-toggleable__control:checked~label.sk-toggleable__label {background-color: #d4ebff;}#sk-container-id-2 input.sk-hidden--visually {border: 0;clip: rect(1px 1px 1px 1px);clip: rect(1px, 1px, 1px, 1px);height: 1px;margin: -1px;overflow: hidden;padding: 0;position: absolute;width: 1px;}#sk-container-id-2 div.sk-estimator {font-family: monospace;background-color: #f0f8ff;border: 1px dotted black;border-radius: 0.25em;box-sizing: border-box;margin-bottom: 0.5em;}#sk-container-id-2 div.sk-estimator:hover {background-color: #d4ebff;}#sk-container-id-2 div.sk-parallel-item::after {content: \"\";width: 100%;border-bottom: 1px solid gray;flex-grow: 1;}#sk-container-id-2 div.sk-label:hover label.sk-toggleable__label {background-color: #d4ebff;}#sk-container-id-2 div.sk-serial::before {content: \"\";position: absolute;border-left: 1px solid gray;box-sizing: border-box;top: 0;bottom: 0;left: 50%;z-index: 0;}#sk-container-id-2 div.sk-serial {display: flex;flex-direction: column;align-items: center;background-color: white;padding-right: 0.2em;padding-left: 0.2em;position: relative;}#sk-container-id-2 div.sk-item {position: relative;z-index: 1;}#sk-container-id-2 div.sk-parallel {display: flex;align-items: stretch;justify-content: center;background-color: white;position: relative;}#sk-container-id-2 div.sk-item::before, #sk-container-id-2 div.sk-parallel-item::before {content: \"\";position: absolute;border-left: 1px solid gray;box-sizing: border-box;top: 0;bottom: 0;left: 50%;z-index: -1;}#sk-container-id-2 div.sk-parallel-item {display: flex;flex-direction: column;z-index: 1;position: relative;background-color: white;}#sk-container-id-2 div.sk-parallel-item:first-child::after {align-self: flex-end;width: 50%;}#sk-container-id-2 div.sk-parallel-item:last-child::after {align-self: flex-start;width: 50%;}#sk-container-id-2 div.sk-parallel-item:only-child::after {width: 0;}#sk-container-id-2 div.sk-dashed-wrapped {border: 1px dashed gray;margin: 0 0.4em 0.5em 0.4em;box-sizing: border-box;padding-bottom: 0.4em;background-color: white;}#sk-container-id-2 div.sk-label label {font-family: monospace;font-weight: bold;display: inline-block;line-height: 1.2em;}#sk-container-id-2 div.sk-label-container {text-align: center;}#sk-container-id-2 div.sk-container {/* jupyter's `normalize.less` sets `[hidden] { display: none; }` but bootstrap.min.css set `[hidden] { display: none !important; }` so we also need the `!important` here to be able to override the default hidden behavior on the sphinx rendered scikit-learn.org. See: https://github.com/scikit-learn/scikit-learn/issues/21755 */display: inline-block !important;position: relative;}#sk-container-id-2 div.sk-text-repr-fallback {display: none;}</style><div id=\"sk-container-id-2\" class=\"sk-top-container\"><div class=\"sk-text-repr-fallback\"><pre>RandomForestClassifier(random_state=42)</pre><b>In a Jupyter environment, please rerun this cell to show the HTML representation or trust the notebook. <br />On GitHub, the HTML representation is unable to render, please try loading this page with nbviewer.org.</b></div><div class=\"sk-container\" hidden><div class=\"sk-item\"><div class=\"sk-estimator sk-toggleable\"><input class=\"sk-toggleable__control sk-hidden--visually\" id=\"sk-estimator-id-2\" type=\"checkbox\" checked><label for=\"sk-estimator-id-2\" class=\"sk-toggleable__label sk-toggleable__label-arrow\">RandomForestClassifier</label><div class=\"sk-toggleable__content\"><pre>RandomForestClassifier(random_state=42)</pre></div></div></div></div></div>"
      ],
      "text/plain": [
       "RandomForestClassifier(random_state=42)"
      ]
     },
     "execution_count": 25,
     "metadata": {},
     "output_type": "execute_result"
    }
   ],
   "source": [
    "rf_model = RandomForestClassifier(random_state=42)  # creating object for RandomForestClassifier class\n",
    "\n",
    "rf_model.fit(x_train,y_train.ravel())   # Training a machine"
   ]
  },
  {
   "cell_type": "markdown",
   "id": "f9627cf6",
   "metadata": {},
   "source": [
    "## Testing a model"
   ]
  },
  {
   "cell_type": "code",
   "execution_count": 26,
   "id": "2bb7f91b",
   "metadata": {},
   "outputs": [
    {
     "name": "stdout",
     "output_type": "stream",
     "text": [
      "[[ 0.63994726  0.84832379  0.14964075 ...  0.46849198  1.4259954\n",
      "   0.90726993]\n",
      " [-0.84488505 -1.12339636 -0.16054575 ... -0.36506078 -0.19067191\n",
      "   0.53090156]\n",
      " [ 1.23388019  1.94372388 -0.26394125 ...  0.60439732 -0.10558415\n",
      "  -1.28821221]\n",
      " ...\n",
      " [ 0.3429808   0.00330087  0.14964075 ... -0.68519336 -0.27575966\n",
      "   0.15453319]\n",
      " [-0.84488505  0.1597866  -0.47073225 ... -0.37110101  1.17073215\n",
      "  -1.28821221]\n",
      " [-0.84488505 -0.8730192   0.04624525 ... -0.47378505 -0.87137393\n",
      "   0.65635768]]\n"
     ]
    }
   ],
   "source": [
    "scaler = StandardScaler()\n",
    "scaler.fit(x)\n",
    "standardized_data = scaler.transform(x)\n",
    "print(standardized_data)"
   ]
  },
  {
   "cell_type": "code",
   "execution_count": 27,
   "id": "3df20e9a",
   "metadata": {},
   "outputs": [
    {
     "name": "stdout",
     "output_type": "stream",
     "text": [
      "Accuracy 0.7532467532467533\n",
      "[[ 1.23388019  1.94372388 -0.26394125 -0.69289057 -1.10325546  0.60439732\n",
      "  -0.10558415 -1.28821221]]\n",
      "[0]\n"
     ]
    },
    {
     "data": {
      "text/plain": [
       "(231, 8)"
      ]
     },
     "execution_count": 27,
     "metadata": {},
     "output_type": "execute_result"
    }
   ],
   "source": [
    " rf_model_test = rf_model.predict(x_test)    # Testing a model\n",
    "print(f'Accuracy { metrics.accuracy_score(y_test,rf_model_test)}')\n",
    "# dict = {\n",
    "#     'num_preg':5,\n",
    "#     'glucose_conc':6,\n",
    "#     'diastolic_bp':147,\n",
    "#     'insulin':72,\n",
    "#     'bmi':0,\n",
    "#     'diab_pred':34.6,\n",
    "#     'age':0.627,\n",
    "#     'skin':50,\n",
    "#     'diabetes':1.33790\n",
    "# }\n",
    "# rf_model_test = rf_model.predict([[5,6,147,72,0,34.6,0.627,50]])\n",
    "\n",
    "input_data = [8,183,64,0,23.3,0.672,32,0.0000]\n",
    "\n",
    "# input_data = [1,89,66,94,28.1,0.16,21,0.9062]\n",
    "\n",
    "# input_data = [6,148,72,0,33.6,0.627,50,1.3790]\n",
    "input_data_as_numpy_array = np.asarray(input_data)\n",
    "input_data_reshaped = input_data_as_numpy_array.reshape(1,-1)\n",
    "# to convert our data into standardized data \n",
    "std_data = scaler.transform(input_data_reshaped)\n",
    "print(std_data)\n",
    "rf_model_test = rf_model.predict(std_data)\n",
    "print(rf_model_test)\n",
    "\n",
    "\n",
    "x_test.shape"
   ]
  },
  {
   "cell_type": "markdown",
   "id": "a192046a",
   "metadata": {},
   "source": [
    "#### Confusion matrix and classification report"
   ]
  },
  {
   "cell_type": "code",
   "execution_count": 28,
   "id": "641e21d4",
   "metadata": {},
   "outputs": [
    {
     "data": {
      "text/plain": [
       "172.0"
      ]
     },
     "execution_count": 28,
     "metadata": {},
     "output_type": "execute_result"
    }
   ],
   "source": [
    "(74.45887445887446 * 231)/100\n"
   ]
  },
  {
   "cell_type": "markdown",
   "id": "5a5c7779",
   "metadata": {},
   "source": [
    "## Logistic regression"
   ]
  },
  {
   "cell_type": "code",
   "execution_count": 29,
   "id": "17008686",
   "metadata": {},
   "outputs": [
    {
     "ename": "NameError",
     "evalue": "name 'y_train_sm' is not defined",
     "output_type": "error",
     "traceback": [
      "\u001b[1;31m---------------------------------------------------------------------------\u001b[0m",
      "\u001b[1;31mNameError\u001b[0m                                 Traceback (most recent call last)",
      "Cell \u001b[1;32mIn[29], line 7\u001b[0m\n\u001b[0;32m      3\u001b[0m \u001b[38;5;28;01mfrom\u001b[39;00m \u001b[38;5;21;01msklearn\u001b[39;00m\u001b[38;5;21;01m.\u001b[39;00m\u001b[38;5;21;01mlinear_model\u001b[39;00m \u001b[38;5;28;01mimport\u001b[39;00m LogisticRegression  \n\u001b[0;32m      5\u001b[0m lg_classifier\u001b[38;5;241m=\u001b[39m LogisticRegression(C\u001b[38;5;241m=\u001b[39m\u001b[38;5;241m0.5\u001b[39m,random_state\u001b[38;5;241m=\u001b[39m\u001b[38;5;241m42\u001b[39m,class_weight\u001b[38;5;241m=\u001b[39m\u001b[38;5;124m'\u001b[39m\u001b[38;5;124mbalanced\u001b[39m\u001b[38;5;124m'\u001b[39m)  \u001b[38;5;66;03m# Creating object for LogisticcRegression class\u001b[39;00m\n\u001b[1;32m----> 7\u001b[0m lg_classifier\u001b[38;5;241m.\u001b[39mfit(x_train, \u001b[43my_train_sm\u001b[49m)   \u001b[38;5;66;03m# Training a machine\u001b[39;00m\n",
      "\u001b[1;31mNameError\u001b[0m: name 'y_train_sm' is not defined"
     ]
    }
   ],
   "source": [
    "#Fitting Logistic Regression to the training set  \n",
    "\n",
    "from sklearn.linear_model import LogisticRegression  \n",
    "\n",
    "lg_classifier= LogisticRegression(C=0.5,random_state=42,class_weight='balanced')  # Creating object for LogisticcRegression class\n",
    "\n",
    "lg_classifier.fit(x_train, y_train_sm)   # Training a machine"
   ]
  },
  {
   "cell_type": "code",
   "execution_count": null,
   "id": "2b4f3267",
   "metadata": {},
   "outputs": [],
   "source": [
    "#Predicting the test set result  \n",
    "y_pred= lg_classifier.predict(x_test)  \n",
    "\n",
    "print(f'Accuracy = {metrics.accuracy_score(y_test,y_pred)}')   # Accuracy \n",
    "\n",
    "print(f'Confusion matrix = \\n {metrics.confusion_matrix(y_test,y_pred)}')\n",
    "print(f'classification report : \\n {metrics.classification_report(y_test,y_pred)}')"
   ]
  },
  {
   "cell_type": "code",
   "execution_count": null,
   "id": "247589cf",
   "metadata": {},
   "outputs": [],
   "source": [
    "(73.59307359307359*231)/100"
   ]
  },
  {
   "cell_type": "markdown",
   "id": "ab764f83",
   "metadata": {},
   "source": [
    "## Decision Tree"
   ]
  },
  {
   "cell_type": "code",
   "execution_count": null,
   "id": "a3989799",
   "metadata": {},
   "outputs": [],
   "source": [
    "from sklearn.tree import DecisionTreeClassifier\n",
    "\n",
    "decision_tree = DecisionTreeClassifier()    # Creating a object for DecisionTreeClasssifier\n",
    "\n",
    "decision_tree.fit(x_train_sm,y_train_sm)   # Training a model"
   ]
  },
  {
   "cell_type": "code",
   "execution_count": null,
   "id": "079bb241",
   "metadata": {},
   "outputs": [],
   "source": [
    "x_pred = decision_tree.predict(x_test)   # Testing a model\n",
    "\n",
    "print(f'Accuracy = {metrics.accuracy_score(y_test,x_pred)}')\n",
    "\n",
    "print(f'Confusion matrix = \\n {metrics.confusion_matrix(y_test,x_pred)}')"
   ]
  },
  {
   "cell_type": "code",
   "execution_count": null,
   "id": "5508e5b3",
   "metadata": {},
   "outputs": [],
   "source": [
    "(73.59307359307359 * 231) /100"
   ]
  },
  {
   "cell_type": "markdown",
   "id": "312b6cc9",
   "metadata": {},
   "source": [
    "## KNN Algorithm "
   ]
  },
  {
   "cell_type": "code",
   "execution_count": null,
   "id": "36c7751a",
   "metadata": {},
   "outputs": [],
   "source": [
    "from sklearn.neighbors import KNeighborsClassifier\n",
    "\n",
    "k_neighbor = KNeighborsClassifier()\n",
    "k_neighbor.fit(x_train_sm,y_train_sm)"
   ]
  },
  {
   "cell_type": "code",
   "execution_count": null,
   "id": "b06275ae",
   "metadata": {},
   "outputs": [],
   "source": [
    "x_pred = k_neighbor.predict(x_test)\n",
    "\n",
    "print(f'Accuracy = {metrics.accuracy_score(y_test,x_pred)}')\n",
    "print(f'Confusion matrix = \\n {metrics.confusion_matrix(y_test,x_pred)}')"
   ]
  },
  {
   "cell_type": "code",
   "execution_count": null,
   "id": "bcea52fd",
   "metadata": {},
   "outputs": [],
   "source": [
    "(73.59307359307359 * 231) /100"
   ]
  },
  {
   "cell_type": "markdown",
   "id": "fc0fb158",
   "metadata": {},
   "source": [
    "## SVM"
   ]
  },
  {
   "cell_type": "code",
   "execution_count": null,
   "id": "d38f8c60",
   "metadata": {},
   "outputs": [],
   "source": [
    "from sklearn.svm import SVC\n",
    "\n",
    "support = SVC()\n",
    "support.fit(x_train_sm,y_train_sm)"
   ]
  },
  {
   "cell_type": "code",
   "execution_count": null,
   "id": "7cdb78ec",
   "metadata": {},
   "outputs": [],
   "source": [
    "x_pred = support.predict(x_test)\n",
    "\n",
    "print(f'Accuracy = {metrics.accuracy_score(y_test,x_pred)} ')\n",
    "\n",
    "print(f'Confusion matrix = \\n {metrics.confusion_matrix(y_test,x_pred)}')"
   ]
  },
  {
   "cell_type": "code",
   "execution_count": null,
   "id": "186f3849",
   "metadata": {},
   "outputs": [],
   "source": [
    "(74.02597402597403 * 231) /100"
   ]
  },
  {
   "cell_type": "code",
   "execution_count": null,
   "id": "4e85ad54",
   "metadata": {},
   "outputs": [],
   "source": [
    "    "
   ]
  },
  {
   "cell_type": "code",
   "execution_count": null,
   "id": "c989c482",
   "metadata": {},
   "outputs": [],
   "source": []
  }
 ],
 "metadata": {
  "kernelspec": {
   "display_name": "Python 3 (ipykernel)",
   "language": "python",
   "name": "python3"
  },
  "language_info": {
   "codemirror_mode": {
    "name": "ipython",
    "version": 3
   },
   "file_extension": ".py",
   "mimetype": "text/x-python",
   "name": "python",
   "nbconvert_exporter": "python",
   "pygments_lexer": "ipython3",
   "version": "3.9.8"
  }
 },
 "nbformat": 4,
 "nbformat_minor": 5
}
